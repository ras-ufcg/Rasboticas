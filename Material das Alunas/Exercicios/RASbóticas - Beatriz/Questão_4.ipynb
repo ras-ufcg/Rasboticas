{
  "nbformat": 4,
  "nbformat_minor": 0,
  "metadata": {
    "colab": {
      "name": "Questão 4",
      "provenance": []
    },
    "kernelspec": {
      "name": "python3",
      "display_name": "Python 3"
    }
  },
  "cells": [
    {
      "cell_type": "code",
      "metadata": {
        "id": "OcghAB8Qyyys",
        "colab_type": "code",
        "colab": {}
      },
      "source": [
        "#¨¨¨¨¨¨¨¨¨¨ Questão 4 ¨¨¨¨¨¨¨¨\n",
        "#            listas.2\n",
        "\n",
        "print(\"Nessa programação você irá descobrir os números que são divisores do número de entrada\")\n",
        "\n",
        "n = int(input(\"Digite o número que você deseja para dividir: \")) # entrada do valor que usaremos para dividir\n",
        "listrange = list(range(1,n+1))                                   #criação do tamanho da lista de acordo com o valor inserido\n",
        "listadivisor = []                                                #criação da lista que conterá os divisores\n",
        "for num in listrange:                                            #laço for para dar o loop da lista\n",
        "  if n % num == 0:                                               #condicional que diz: se o valor inserido tiver o resto 0 da divisão com o numero do laço, então faça:\n",
        "    listadivisor.append(num)                                     #função que armazena os valores de num na lista\n",
        "print(listadivisor)                                              #imprime os valores que são divisores do numero inserido  "
      ],
      "execution_count": null,
      "outputs": []
    }
  ]
}