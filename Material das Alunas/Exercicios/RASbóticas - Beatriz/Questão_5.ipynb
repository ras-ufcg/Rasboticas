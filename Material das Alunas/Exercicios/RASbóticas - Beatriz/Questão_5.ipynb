{
  "nbformat": 4,
  "nbformat_minor": 0,
  "metadata": {
    "colab": {
      "name": "Questão 5",
      "provenance": []
    },
    "kernelspec": {
      "name": "python3",
      "display_name": "Python 3"
    }
  },
  "cells": [
    {
      "cell_type": "code",
      "metadata": {
        "id": "OcghAB8Qyyys",
        "colab_type": "code",
        "colab": {}
      },
      "source": [
        "#**************** Questão 5 *****************\n",
        "#           Sobreposição de lista\n",
        "\n",
        "a = range(5,13)         #Declaro uma lista com os numero de 5 até 13\n",
        "b = range(3,31)         #Declaro uma lista com os numeros de 3 até 31\n",
        "x = []                  #Declaro uma lista vazia para conter os numeros em comum na lista a e b\n",
        "\n",
        "for elem in a:          #Laço for que roda a quantidade de numeros que contém em a\n",
        "   if elem in b:        #condicional que diz se o elem do laço for estiver em b faça:\n",
        "     if elem not in x:  #outra condicional que diz se os elem do if não estiver em x faça:\n",
        "       x.append(elem)   #adicione os valores em x que está em a e em b, mas não em x\n",
        "       print(x)         #imprime os valores de x"
      ],
      "execution_count": null,
      "outputs": []
    }
  ]
}