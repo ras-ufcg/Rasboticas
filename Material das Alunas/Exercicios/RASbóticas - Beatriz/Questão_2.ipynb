{
  "nbformat": 4,
  "nbformat_minor": 0,
  "metadata": {
    "colab": {
      "name": "Questão 2",
      "provenance": []
    },
    "kernelspec": {
      "name": "python3",
      "display_name": "Python 3"
    }
  },
  "cells": [
    {
      "cell_type": "code",
      "metadata": {
        "id": "OcghAB8Qyyys",
        "colab_type": "code",
        "colab": {}
      },
      "source": [
        "#¨¨¨¨¨¨¨¨¨¨¨¨ Questão 2 ¨¨¨¨¨¨¨¨¨¨¨¨¨\n",
        "#            ímpar ou par\n",
        "\n",
        "n = int(input(\"Digite um número: \\n\"))   # entrada de dados\n",
        "\n",
        "resto_da_divisão = int(n%2)              # variavel que guarda em numero inteiro o resto da divisão do numero inserido com 2\n",
        "\n",
        "if resto_da_divisão == 0:                # condicional que diz: se o resto da divisão for 0 faça:\n",
        "  print(\"Número par\")                    # imprime o que está entre \"\"\n",
        "if resto_da_divisão > 0:                 # caso não o resto for maior que 0 faça:\n",
        "  print(\"Número ímpar\")                  # imprime o que está entre \"\""
      ],
      "execution_count": null,
      "outputs": []
    }
  ]
}