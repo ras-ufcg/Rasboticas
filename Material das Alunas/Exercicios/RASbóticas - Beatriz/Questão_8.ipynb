{
  "nbformat": 4,
  "nbformat_minor": 0,
  "metadata": {
    "colab": {
      "name": "Questão 8",
      "provenance": []
    },
    "kernelspec": {
      "name": "python3",
      "display_name": "Python 3"
    }
  },
  "cells": [
    {
      "cell_type": "code",
      "metadata": {
        "id": "OcghAB8Qyyys",
        "colab_type": "code",
        "colab": {}
      },
      "source": [
        "# ¨¨¨¨¨¨¨¨ Questão 8 ¨¨¨¨¨¨¨¨¨¨\n",
        "#      Jogo da adivinhação\n",
        "\n",
        "import random\n",
        "\n",
        "usu = int(input(\"Tente adivinhar o número que será gerado: \"))\n",
        "\n",
        "a = random.randint(1 ,13)\n",
        "\n",
        "if usu == a:\n",
        "  print(\"Você acertou!\")\n",
        "if usu < a:\n",
        "  print(\"Você chegou perto! Era um pouco maior...\") \n",
        "if usu > a:\n",
        "  print(\"Você chegou perto! Era um pouco menor...\")   \n",
        "print(a)"
      ],
      "execution_count": null,
      "outputs": []
    }
  ]
}