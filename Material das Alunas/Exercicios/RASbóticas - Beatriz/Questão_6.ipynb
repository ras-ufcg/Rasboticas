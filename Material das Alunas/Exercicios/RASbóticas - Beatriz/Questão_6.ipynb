{
  "nbformat": 4,
  "nbformat_minor": 0,
  "metadata": {
    "colab": {
      "name": "Questão 6",
      "provenance": []
    },
    "kernelspec": {
      "name": "python3",
      "display_name": "Python 3"
    }
  },
  "cells": [
    {
      "cell_type": "code",
      "metadata": {
        "id": "OcghAB8Qyyys",
        "colab_type": "code",
        "colab": {}
      },
      "source": [
        "#¨¨¨¨¨¨¨¨¨¨¨¨¨¨¨¨ Questão 6 ¨¨¨¨¨¨¨¨¨¨¨¨¨¨¨\n",
        "#              Palímdromo ou não\n",
        "\n",
        "string = 0                                   #informei que a variável string é zero para não pegar lixo \n",
        "string = str(input(\"Digite sua string: \"))   #entrada da string pelo usuário\n",
        "stringT = string[::-1]                       #stringT será a string ao contrário \n",
        "print(stringT)                               #imprime a str ao contrário\n",
        "\n",
        "if string == stringT:                        #condicional que diz que: se a entrada for igual a ao contrário faça:\n",
        "  print(\"É polímdromo\")                      #imprime 'é polímdromo'\n",
        "else: print(\"Não é polímdromo\")              #imprime 'não é polimdromo'"
      ],
      "execution_count": null,
      "outputs": []
    }
  ]
}