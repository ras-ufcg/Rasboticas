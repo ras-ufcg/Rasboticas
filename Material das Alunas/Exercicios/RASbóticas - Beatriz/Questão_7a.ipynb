{
  "nbformat": 4,
  "nbformat_minor": 0,
  "metadata": {
    "colab": {
      "name": "Questão 7a",
      "provenance": []
    },
    "kernelspec": {
      "name": "python3",
      "display_name": "Python 3"
    }
  },
  "cells": [
    {
      "cell_type": "code",
      "metadata": {
        "id": "OcghAB8Qyyys",
        "colab_type": "code",
        "colab": {}
      },
      "source": [
        "#************ Questão 7 ************\n",
        "#       Compreensão de listas\n",
        "\n",
        "a = [1, 4, 9, 16, 25, 36, 49, 64, 81, 100]\n",
        "b = [x for x in a if x % 2 == 0]\n",
        "\n",
        "print(b)"
      ],
      "execution_count": null,
      "outputs": []
    }
  ]
}