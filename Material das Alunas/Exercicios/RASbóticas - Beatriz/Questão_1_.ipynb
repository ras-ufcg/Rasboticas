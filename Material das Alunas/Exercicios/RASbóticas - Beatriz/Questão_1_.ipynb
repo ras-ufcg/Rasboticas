{
  "nbformat": 4,
  "nbformat_minor": 0,
  "metadata": {
    "colab": {
      "name": "Questão 1 .ipynb",
      "provenance": []
    },
    "kernelspec": {
      "name": "python3",
      "display_name": "Python 3"
    }
  },
  "cells": [
    {
      "cell_type": "code",
      "metadata": {
        "id": "vMLp-880evqm",
        "colab_type": "code",
        "colab": {
          "base_uri": "https://localhost:8080/",
          "height": 158
        },
        "outputId": "2330c6a5-7746-4263-febd-6be37bc0b372"
      },
      "source": [
        "# ------- Questão 1 --------\n",
        "# entrada de caracteres\n",
        " \n",
        "print(\" ********* Tá afim de descobri em que ano você fará 100 anos? ************\\n\\n\")\n",
        "\n",
        "idade = int(input(\"Digite sua idade: \"))           #entrada de dados inteiros para variável idade\n",
        "nome = str(input(\"Digite seu nome: \"))             #entrada de dados em strings  para variável nome\n",
        "ano_atual = int(input(\"Digite o ano atual: \"))     #entrada de dados inteiros  para variável ano_atual\n",
        "\n",
        "ano_100 = str((ano_atual - idade) +100)            #o valor guardado na variavel ano_100 é a subtração do ano_atual com a idade +100\n",
        "\n",
        "print(\"Você, \" + nome)                             #imprime o seu nome \n",
        "print(\"fará 100 anos em: \" + ano_100)              #imprime o ano que vc fará 100"
      ],
      "execution_count": 2,
      "outputs": [
        {
          "output_type": "stream",
          "text": [
            " ********* Tá afim de descobri em que ano você fará 100 anos? ************\n",
            "\n",
            "\n",
            "Digite sua idade: 51\n",
            "Digite seu nome: arnaldo\n",
            "Digite o ano atual: 2020\n",
            "Você, arnaldo\n",
            "fará 100 anos em: 2069\n"
          ],
          "name": "stdout"
        }
      ]
    }
  ]
}