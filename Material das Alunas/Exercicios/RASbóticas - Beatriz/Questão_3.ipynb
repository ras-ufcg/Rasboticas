{
  "nbformat": 4,
  "nbformat_minor": 0,
  "metadata": {
    "colab": {
      "name": "Questão 3",
      "provenance": []
    },
    "kernelspec": {
      "name": "python3",
      "display_name": "Python 3"
    }
  },
  "cells": [
    {
      "cell_type": "code",
      "metadata": {
        "id": "OcghAB8Qyyys",
        "colab_type": "code",
        "colab": {}
      },
      "source": [
        "#********** Questão 3 **********\n",
        "#            listas\n",
        "\n",
        "a = [1,-2,34,4,5,-13,12,13]    # lista declarada\n",
        "for n in a:                    # loop da lista com auxiliar 'n' que permite repetir a lista\n",
        "  if n<5:                      # condicional que diz: se n for menor que 5 faça:\n",
        "    print(n)                   # imprime aos valores de n que são menores que 5"
      ],
      "execution_count": null,
      "outputs": []
    }
  ]
}